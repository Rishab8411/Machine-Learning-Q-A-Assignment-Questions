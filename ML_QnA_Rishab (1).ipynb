{
  "cells": [
    {
      "cell_type": "markdown",
      "metadata": {
        "id": "LkOfH9Kur1vd"
      },
      "source": [
        "#  Machine Learning Q&A – Assignment Questions\n"
      ],
      "id": "LkOfH9Kur1vd"
    },
    {
      "cell_type": "markdown",
      "metadata": {
        "id": "gmNSAjpHr1ve"
      },
      "source": [
        "### 1. What is a parameter?\n",
        "\n",
        "A parameter is a value or setting that the model learns from the training data. It helps the model make predictions. For example, in linear regression, the slope and intercept are parameters."
      ],
      "id": "gmNSAjpHr1ve"
    },
    {
      "cell_type": "markdown",
      "metadata": {
        "id": "K63ursb_r1vf"
      },
      "source": [
        "### 2. What is correlation? What does negative correlation mean?\n",
        "\n",
        "Correlation shows how two variables are related. If both increase or decrease together, it's positive. If one increases while the other decreases, it’s negative."
      ],
      "id": "K63ursb_r1vf"
    },
    {
      "cell_type": "markdown",
      "metadata": {
        "id": "zwfReOyNr1vf"
      },
      "source": [
        "### 3. Define Machine Learning. What are the main components in Machine Learning?\n",
        "\n",
        "Machine Learning is about training computers to learn from data and make decisions. Main components: Data, Model, Loss function, Optimizer, Evaluation."
      ],
      "id": "zwfReOyNr1vf"
    },
    {
      "cell_type": "markdown",
      "metadata": {
        "id": "CKcvDuPsr1vf"
      },
      "source": [
        "### 4. How does loss value help in determining whether the model is good or not?\n",
        "\n",
        "Loss value shows the difference between the model’s prediction and actual value. A lower loss means better performance."
      ],
      "id": "CKcvDuPsr1vf"
    },
    {
      "cell_type": "markdown",
      "metadata": {
        "id": "xbZTa4h3r1vg"
      },
      "source": [
        "### 5. What are continuous and categorical variables?\n",
        "\n",
        "**Continuous:** Numeric values like age or salary. **Categorical:** Labels like gender, color, brand, etc."
      ],
      "id": "xbZTa4h3r1vg"
    },
    {
      "cell_type": "markdown",
      "metadata": {
        "id": "3q1aCELqr1vg"
      },
      "source": [
        "### 6. How do we handle categorical variables in Machine Learning?\n",
        "\n",
        "We convert them to numbers using Label Encoding or One Hot Encoding."
      ],
      "id": "3q1aCELqr1vg"
    },
    {
      "cell_type": "markdown",
      "metadata": {
        "id": "zvnCjZDLr1vg"
      },
      "source": [
        "### 7. What do you mean by training and testing a dataset?\n",
        "\n",
        "Training means teaching the model using known data. Testing means checking how well the model performs on new, unseen data."
      ],
      "id": "zvnCjZDLr1vg"
    },
    {
      "cell_type": "markdown",
      "metadata": {
        "id": "LXeQKcX2r1vg"
      },
      "source": [
        "### 8. What is sklearn.preprocessing?\n",
        "\n",
        "It's a module in scikit-learn used to prepare data. It includes tools for scaling, encoding, normalization, etc."
      ],
      "id": "LXeQKcX2r1vg"
    },
    {
      "cell_type": "markdown",
      "metadata": {
        "id": "x9ftpcywr1vg"
      },
      "source": [
        "### 9. What is a Test set?\n",
        "\n",
        "It's the part of data used to evaluate model performance. It’s never used during training."
      ],
      "id": "x9ftpcywr1vg"
    },
    {
      "cell_type": "markdown",
      "metadata": {
        "id": "UwA6aEqjr1vg"
      },
      "source": [
        "### 10. How do we split data for model fitting (training and testing) in Python? How do you approach a Machine Learning problem?\n",
        "\n",
        "Use `train_test_split()` from sklearn. Approach: Understand the problem → Prepare data → Choose model → Train → Test → Improve."
      ],
      "id": "UwA6aEqjr1vg"
    },
    {
      "cell_type": "markdown",
      "metadata": {
        "id": "nC8CuHnEr1vh"
      },
      "source": [
        "### 11. Why do we have to perform EDA before fitting a model to the data?\n",
        "\n",
        "EDA helps us understand the data, detect problems, and choose the right approach for cleaning and modeling."
      ],
      "id": "nC8CuHnEr1vh"
    },
    {
      "cell_type": "markdown",
      "metadata": {
        "id": "MFA_hYO8r1vh"
      },
      "source": [
        "### 12. What is correlation?\n",
        "\n",
        "Correlation tells us how two variables move together. Positive means same direction, negative means opposite."
      ],
      "id": "MFA_hYO8r1vh"
    },
    {
      "cell_type": "markdown",
      "metadata": {
        "id": "BQ56Q952r1vh"
      },
      "source": [
        "### 13. What does negative correlation mean?\n",
        "\n",
        "When one variable increases, and the other decreases. Example: more social media, fewer study hours."
      ],
      "id": "BQ56Q952r1vh"
    },
    {
      "cell_type": "markdown",
      "metadata": {
        "id": "fHRMvppjr1vh"
      },
      "source": [
        "### 14. How can you find correlation between variables in Python?\n",
        "\n",
        "Use `.corr()` method with a DataFrame: `df.corr()`."
      ],
      "id": "fHRMvppjr1vh"
    },
    {
      "cell_type": "markdown",
      "metadata": {
        "id": "8uyOn3zJr1vh"
      },
      "source": [
        "### 15. What is causation? Explain difference between correlation and causation with an example.\n",
        "\n",
        "Causation means A causes B. Correlation just means A and B move together. Example: Ice cream sales and sunburns go up in summer (correlation), but ice cream doesn't cause sunburn."
      ],
      "id": "8uyOn3zJr1vh"
    },
    {
      "cell_type": "markdown",
      "metadata": {
        "id": "5izt6oCwr1vh"
      },
      "source": [
        "### 16. What is an Optimizer? What are different types of optimizers? Explain each with an example.\n",
        "\n",
        "Optimizers reduce loss during training. Types: SGD (slow, one sample), Adam (adaptive, fast). Example: `optimizer = tf.keras.optimizers.Adam()`"
      ],
      "id": "5izt6oCwr1vh"
    },
    {
      "cell_type": "markdown",
      "metadata": {
        "id": "pPV8ReGfr1vh"
      },
      "source": [
        "### 17. What is sklearn.linear_model ?\n",
        "\n",
        "A module in scikit-learn that has models like LinearRegression and LogisticRegression."
      ],
      "id": "pPV8ReGfr1vh"
    },
    {
      "cell_type": "markdown",
      "metadata": {
        "id": "r1J_mxspr1vh"
      },
      "source": [
        "### 18. What does model.fit() do? What arguments must be given?\n",
        "\n",
        "Trains the model. Needs `X_train` and `y_train`. Example: `model.fit(X_train, y_train)`"
      ],
      "id": "r1J_mxspr1vh"
    },
    {
      "cell_type": "markdown",
      "metadata": {
        "id": "do2AbNSsr1vi"
      },
      "source": [
        "### 19. What does model.predict() do? What arguments must be given?\n",
        "\n",
        "Makes predictions using the model. Give it input features like `X_test`. Example: `model.predict(X_test)`"
      ],
      "id": "do2AbNSsr1vi"
    },
    {
      "cell_type": "markdown",
      "metadata": {
        "id": "1lBOUsDdr1vi"
      },
      "source": [
        "### 20. What are continuous and categorical variables?\n",
        "\n",
        "Continuous: numeric data like age, income. Categorical: labels like city, gender. (Repeated question)"
      ],
      "id": "1lBOUsDdr1vi"
    },
    {
      "cell_type": "markdown",
      "metadata": {
        "id": "aTbZ_M3Mr1vi"
      },
      "source": [
        "### 21. What is feature scaling? How does it help in Machine Learning?\n",
        "\n",
        "Feature scaling puts all values on the same scale so that models like KNN, SVM, gradient descent work better."
      ],
      "id": "aTbZ_M3Mr1vi"
    },
    {
      "cell_type": "markdown",
      "metadata": {
        "id": "c2fvIIOXr1vi"
      },
      "source": [
        "### 22. How do we perform scaling in Python?\n",
        "\n",
        "Use `StandardScaler` or `MinMaxScaler` from sklearn. Example: `scaler = StandardScaler(); X_scaled = scaler.fit_transform(X)`"
      ],
      "id": "c2fvIIOXr1vi"
    },
    {
      "cell_type": "markdown",
      "metadata": {
        "id": "JWQBM8Kar1vi"
      },
      "source": [
        "### 23. What is sklearn.preprocessing?\n",
        "\n",
        "It helps preprocess data — encoding, scaling, normalization — before training a model."
      ],
      "id": "JWQBM8Kar1vi"
    },
    {
      "cell_type": "markdown",
      "metadata": {
        "id": "H-rvtX5gr1vi"
      },
      "source": [
        "### 24. How do we split data for model fitting (training and testing) in Python?\n",
        "\n",
        "Use `train_test_split` from sklearn.model_selection. Example:\n",
        "```python\n",
        "from sklearn.model_selection import train_test_split\n",
        "X_train, X_test, y_train, y_test = train_test_split(X, y, test_size=0.2)\n",
        "```"
      ],
      "id": "H-rvtX5gr1vi"
    },
    {
      "cell_type": "markdown",
      "metadata": {
        "id": "oSIX5oJgr1vi"
      },
      "source": [
        "### 25. Explain data encoding?\n",
        "\n",
        "Encoding means converting categories into numbers. Types: Label Encoding and One Hot Encoding."
      ],
      "id": "oSIX5oJgr1vi"
    }
  ],
  "metadata": {
    "kernelspec": {
      "display_name": "Python 3",
      "language": "python",
      "name": "python3"
    },
    "language_info": {
      "name": "python",
      "version": "3.9"
    },
    "colab": {
      "provenance": []
    }
  },
  "nbformat": 4,
  "nbformat_minor": 5
}